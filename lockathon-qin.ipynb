{
 "cells": [
  {
   "cell_type": "code",
   "execution_count": 8,
   "metadata": {
    "collapsed": true
   },
   "outputs": [],
   "source": [
    "import MySQLdb\n",
    "import requests\n",
    "import json\n",
    "\n",
    "db = MySQLdb.connect(\n",
    "    host=\"172.99.106.245\",\n",
    "    user=\"root\",\n",
    "    passwd=\"K0llaP4ss\",\n",
    "    db=\"poi2\")\n",
    "cur = db.cursor()"
   ]
  },
  {
   "cell_type": "code",
   "execution_count": 10,
   "metadata": {},
   "outputs": [
    {
     "name": "stdout",
     "output_type": "stream",
     "text": [
      "(372L,)\n"
     ]
    }
   ],
   "source": [
    "query = \"select count(pageid) from locations\"\n",
    "cur.execute(query)\n",
    "for s in cur.fetchall():\n",
    "    print s"
   ]
  },
  {
   "cell_type": "code",
   "execution_count": 21,
   "metadata": {},
   "outputs": [],
   "source": [
    "from sklearn.datasets import fetch_20newsgroups\n",
    "newsgroups_poi = fetch_20newsgroups(subset='all')\n",
    "labels = newsgroups_poi.target\n",
    "\n",
    "import numpy as np\n",
    "true_k = np.unique(labels).shape[0]\n",
    "\n",
    "from pprint import pprint\n",
    "#pprint(list(newsgroups_poi.target_names))\n",
    "\n",
    "from sklearn.feature_extraction.text import TfidfVectorizer\n",
    "categories = ['alt.atheism', 'talk.religion.misc']\n",
    "vectorizer = TfidfVectorizer()\n",
    "vectors = vectorizer.fit_transform(newsgroups_poi.data)\n",
    "\n",
    "from sklearn.cluster import KMeans\n",
    "km = KMeans(n_clusters=true_k, init='k-means++', max_iter=100, n_init=1)"
   ]
  }
 ],
 "metadata": {
  "kernelspec": {
   "display_name": "Python 2",
   "language": "python",
   "name": "python2"
  },
  "language_info": {
   "codemirror_mode": {
    "name": "ipython",
    "version": 2
   },
   "file_extension": ".py",
   "mimetype": "text/x-python",
   "name": "python",
   "nbconvert_exporter": "python",
   "pygments_lexer": "ipython2",
   "version": "2.7.12"
  }
 },
 "nbformat": 4,
 "nbformat_minor": 2
}
